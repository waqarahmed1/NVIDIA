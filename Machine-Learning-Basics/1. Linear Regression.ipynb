{
 "cells": [
  {
   "cell_type": "code",
   "execution_count": null,
   "id": "ecf7c5b2",
   "metadata": {},
   "outputs": [],
   "source": [
    "!pip install statsmodels"
   ]
  },
  {
   "cell_type": "code",
   "execution_count": null,
   "id": "a4ed8c19",
   "metadata": {},
   "outputs": [],
   "source": [
    "import pandas as pd\n",
    "import numpy as np\n",
    "import matplotlib.pyplot as plt\n",
    "import seaborn as sns\n",
    "from sklearn.model_selection import train_test_split\n",
    "from sklearn.linear_model import LinearRegression\n",
    "%matplotlib inline"
   ]
  },
  {
   "cell_type": "code",
   "execution_count": null,
   "id": "cfb5deb0",
   "metadata": {},
   "outputs": [],
   "source": [
    "df = pd.read_csv(\"Advertising.csv\")\n",
    "df.head()"
   ]
  },
  {
   "cell_type": "code",
   "execution_count": null,
   "id": "c1e6693d",
   "metadata": {},
   "outputs": [],
   "source": [
    "df.drop(columns='Unnamed: 0',inplace=True)\n",
    "df.head()"
   ]
  },
  {
   "cell_type": "code",
   "execution_count": null,
   "id": "b2ec81cd",
   "metadata": {},
   "outputs": [],
   "source": [
    "df.shape"
   ]
  },
  {
   "cell_type": "code",
   "execution_count": null,
   "id": "47a9b79b",
   "metadata": {},
   "outputs": [],
   "source": [
    "X = df.drop(columns='sales')\n",
    "y = df['sales']\n",
    "X_train,X_test,y_train,y_test = train_test_split(X,y,random_state=4,test_size=0.3)\n",
    "X_train.shape,X_test.shape"
   ]
  },
  {
   "cell_type": "code",
   "execution_count": null,
   "id": "f876f943",
   "metadata": {},
   "outputs": [],
   "source": [
    "lr = LinearRegression()\n",
    "lr.fit(X_train,y_train)"
   ]
  },
  {
   "cell_type": "code",
   "execution_count": null,
   "id": "12353299",
   "metadata": {},
   "outputs": [],
   "source": [
    "lr.coef_"
   ]
  },
  {
   "cell_type": "code",
   "execution_count": null,
   "id": "af500718",
   "metadata": {},
   "outputs": [],
   "source": [
    "lr.intercept_"
   ]
  },
  {
   "cell_type": "code",
   "execution_count": null,
   "id": "ae684f2d",
   "metadata": {},
   "outputs": [],
   "source": [
    "X_test[:5]"
   ]
  },
  {
   "cell_type": "code",
   "execution_count": null,
   "id": "ba5d01a7",
   "metadata": {},
   "outputs": [],
   "source": [
    "y_pred_test = lr.predict(X_test)"
   ]
  },
  {
   "cell_type": "code",
   "execution_count": null,
   "id": "0f434104",
   "metadata": {},
   "outputs": [],
   "source": [
    "y_pred_test[:5]"
   ]
  },
  {
   "cell_type": "markdown",
   "id": "f2a7dad2",
   "metadata": {},
   "source": [
    "# Evaluation of Linear Regression"
   ]
  },
  {
   "cell_type": "code",
   "execution_count": null,
   "id": "457502ca",
   "metadata": {},
   "outputs": [],
   "source": [
    "#Mean Absolute Error\n",
    "#Mean Squared Error\n",
    "#Root mean Squared Error\n",
    "#R2 score\n",
    "\n",
    "from sklearn.metrics import mean_absolute_error, mean_squared_error, r2_score\n",
    "print(f\"MSE is {mean_squared_error(y_test,y_pred_test)}\")\n",
    "print(f\"RMSE is {mean_squared_error(y_test,y_pred_test, squared=False)}\")\n",
    "print(f\"MAE is {mean_absolute_error(y_test,y_pred_test)}\")"
   ]
  },
  {
   "cell_type": "code",
   "execution_count": null,
   "id": "15982f15",
   "metadata": {},
   "outputs": [],
   "source": [
    "#R2 score\n",
    "# How much variance can be explained by the given features\n",
    "print(f\"R2-score is {r2_score(y_test,y_pred_test)}\")"
   ]
  },
  {
   "cell_type": "code",
   "execution_count": null,
   "id": "d283c18b",
   "metadata": {},
   "outputs": [],
   "source": [
    "# Regularization of Linear Regression\n",
    "#Lasso Regularization (L1)\n",
    "# Tends to make the coefficients to absolute zero\n",
    "# add the absolute vale of magnitude of coefficient as penalty term to loss function\n",
    "from sklearn.linear_model import Lasso\n",
    "las = Lasso()\n",
    "las.fit(X_train,y_train)\n",
    "y_pred_test = las.predict(X_test)\n",
    "print(f\"R2-score is {r2_score(y_test,y_pred_test)}\")"
   ]
  },
  {
   "cell_type": "code",
   "execution_count": null,
   "id": "57f9ad96",
   "metadata": {},
   "outputs": [],
   "source": [
    "# Ridge Regularization (L2)\n",
    "# Add squared magnitude of coefficients as penalty term for the loss funtion\n",
    "# Result in never set the value of coefficients to absolute zero\n",
    "from sklearn.linear_model import Ridge\n",
    "ridge = Ridge()\n",
    "ridge.fit(X_train,y_train)\n",
    "y_pred_test = las.predict(X_test)\n",
    "print(f\"R2-score is {r2_score(y_test,y_pred_test)}\")"
   ]
  },
  {
   "cell_type": "code",
   "execution_count": null,
   "id": "0436b31a",
   "metadata": {},
   "outputs": [],
   "source": [
    "# ElasticNet Regularization (L1 + L2)\n",
    "# Add squared magnitude of coefficients as penalty term for the loss funtion\n",
    "# Result in never set the value of coefficients to absolute zero\n",
    "from sklearn.linear_model import ElasticNet\n",
    "elasticnet = ElasticNet()\n",
    "elasticnet.fit(X_train,y_train)\n",
    "y_pred_test = elasticnet.predict(X_test)\n",
    "print(f\"R2-score is {r2_score(y_test,y_pred_test)}\")"
   ]
  },
  {
   "cell_type": "code",
   "execution_count": null,
   "id": "21a08c23",
   "metadata": {},
   "outputs": [],
   "source": [
    "# Assumptions of Linear Regression\n",
    "# Linear relationship between feature and target\n",
    "df.head()"
   ]
  },
  {
   "cell_type": "code",
   "execution_count": null,
   "id": "5a12092e",
   "metadata": {},
   "outputs": [],
   "source": [
    "import seaborn as sns\n",
    "sns.pairplot(df,x_vars=['TV','radio','newspaper'],y_vars=['sales'])\n",
    "plt.show()"
   ]
  },
  {
   "cell_type": "code",
   "execution_count": null,
   "id": "7556ea72",
   "metadata": {},
   "outputs": [],
   "source": [
    "corr = df.corr()\n",
    "corr"
   ]
  },
  {
   "cell_type": "code",
   "execution_count": null,
   "id": "dc09d52c",
   "metadata": {},
   "outputs": [],
   "source": [
    "# mean residuals = 0\n",
    "residual = (y_test - y_pred_test)\n",
    "np.mean(residual)"
   ]
  },
  {
   "cell_type": "code",
   "execution_count": null,
   "id": "88835e16",
   "metadata": {},
   "outputs": [],
   "source": [
    "# Normal distribution of error terms\n",
    "sns.distplot(residual)\n",
    "plt.show()"
   ]
  },
  {
   "cell_type": "code",
   "execution_count": null,
   "id": "6d7a5d43",
   "metadata": {},
   "outputs": [],
   "source": [
    "# Multi collinearity\n",
    "# Vif score"
   ]
  },
  {
   "cell_type": "code",
   "execution_count": null,
   "id": "2c5c893a",
   "metadata": {},
   "outputs": [],
   "source": [
    "from statsmodels.stats.outliers_influence import variance_inflation_factor"
   ]
  },
  {
   "cell_type": "code",
   "execution_count": null,
   "id": "9a3acfd1",
   "metadata": {},
   "outputs": [],
   "source": [
    "def vif_score(X):\n",
    "    X_arr = X.values\n",
    "    vif = [variance_inflation_factor(X_arr,i) for i in range(X.shape[1]) ]\n",
    "    vif_score = pd.DataFrame()\n",
    "    vif_score['vif_score'] = vif\n",
    "    vif_score['Features'] = X.columns\n",
    "    return vif_score"
   ]
  },
  {
   "cell_type": "code",
   "execution_count": null,
   "id": "b617ddb1",
   "metadata": {},
   "outputs": [],
   "source": [
    "vif_score(X)"
   ]
  },
  {
   "cell_type": "code",
   "execution_count": null,
   "id": "5f93613a",
   "metadata": {},
   "outputs": [],
   "source": [
    "# IF VIF_SCORE > 4 --> Multicollinearity in the dataset (drop the column)\n",
    "# IF VIF_SCORE < 4 --> No Multicollinearity in the dataset"
   ]
  },
  {
   "cell_type": "code",
   "execution_count": null,
   "id": "1b50ccad",
   "metadata": {},
   "outputs": [],
   "source": []
  },
  {
   "cell_type": "code",
   "execution_count": null,
   "id": "7a0777d8",
   "metadata": {},
   "outputs": [],
   "source": []
  },
  {
   "cell_type": "code",
   "execution_count": null,
   "id": "2db2a386",
   "metadata": {},
   "outputs": [],
   "source": []
  },
  {
   "cell_type": "code",
   "execution_count": null,
   "id": "6b7a76c4",
   "metadata": {},
   "outputs": [],
   "source": []
  },
  {
   "cell_type": "code",
   "execution_count": null,
   "id": "c30ed659",
   "metadata": {},
   "outputs": [],
   "source": []
  }
 ],
 "metadata": {
  "kernelspec": {
   "display_name": "Python 3 (ipykernel)",
   "language": "python",
   "name": "python3"
  },
  "language_info": {
   "codemirror_mode": {
    "name": "ipython",
    "version": 3
   },
   "file_extension": ".py",
   "mimetype": "text/x-python",
   "name": "python",
   "nbconvert_exporter": "python",
   "pygments_lexer": "ipython3",
   "version": "3.8.0"
  }
 },
 "nbformat": 4,
 "nbformat_minor": 5
}
