{
 "cells": [
  {
   "cell_type": "code",
   "execution_count": null,
   "id": "0c2a85d8",
   "metadata": {},
   "outputs": [],
   "source": [
    "# y --> 0/1\n",
    "# X & y\n",
    "# Multi collinearity\n",
    "#  independent variables are linearly relaed to log odds"
   ]
  },
  {
   "cell_type": "code",
   "execution_count": null,
   "id": "8b26f853",
   "metadata": {},
   "outputs": [],
   "source": [
    "import pandas as pd\n",
    "import numpy as np\n",
    "import matplotlib.pyplot as plt\n",
    "import seaborn as sns\n",
    "from sklearn.model_selection import train_test_split\n",
    "from sklearn.linear_model import LogisticRegression\n",
    "from sklearn.preprocessing import LabelEncoder\n",
    "sns.set(style='white')"
   ]
  },
  {
   "cell_type": "code",
   "execution_count": null,
   "id": "5d5f10c9",
   "metadata": {},
   "outputs": [],
   "source": [
    "data = pd.read_csv('banking.csv')\n",
    "data.head()"
   ]
  },
  {
   "cell_type": "code",
   "execution_count": null,
   "id": "b924cf47",
   "metadata": {},
   "outputs": [],
   "source": [
    "data.columns"
   ]
  },
  {
   "cell_type": "code",
   "execution_count": null,
   "id": "d1f1d7dd",
   "metadata": {},
   "outputs": [],
   "source": [
    "data.info()"
   ]
  },
  {
   "cell_type": "code",
   "execution_count": null,
   "id": "b12265bf",
   "metadata": {},
   "outputs": [],
   "source": [
    "data['loan'].value_counts()"
   ]
  },
  {
   "cell_type": "code",
   "execution_count": null,
   "id": "33742d8e",
   "metadata": {},
   "outputs": [],
   "source": [
    "data['y'].value_counts()"
   ]
  },
  {
   "cell_type": "code",
   "execution_count": null,
   "id": "ab8d804c",
   "metadata": {},
   "outputs": [],
   "source": [
    "data.groupby('job').mean()"
   ]
  },
  {
   "cell_type": "code",
   "execution_count": null,
   "id": "dd9f0784",
   "metadata": {},
   "outputs": [],
   "source": [
    "data.groupby('y').mean()"
   ]
  },
  {
   "cell_type": "code",
   "execution_count": null,
   "id": "d43afa77",
   "metadata": {},
   "outputs": [],
   "source": [
    "%matplotlib inline\n",
    "pd.crosstab(data['job'],data['y']).plot(kind='bar')\n",
    "plt.title(\"Purchase Freq of job title\")\n",
    "plt.xlabel(\"job\")\n",
    "plt.ylabel('Freq of purchase')"
   ]
  },
  {
   "cell_type": "code",
   "execution_count": null,
   "id": "0785bbd6",
   "metadata": {},
   "outputs": [],
   "source": [
    "%matplotlib inline\n",
    "table = pd.crosstab(data['marital'],data['y'])\n",
    "table.div(table.sum(1).astype(float), axis=0).plot(kind='bar', stacked=True)\n",
    "plt.title(\"marital\")\n",
    "plt.xlabel(\"marital\")\n",
    "plt.ylabel('Freq of purchase')"
   ]
  },
  {
   "cell_type": "code",
   "execution_count": null,
   "id": "531fc517",
   "metadata": {},
   "outputs": [],
   "source": [
    "%matplotlib inline\n",
    "table = pd.crosstab(data['education'],data['y'])\n",
    "table.div(table.sum(1).astype(float), axis=0).plot(kind='bar', stacked=True)"
   ]
  },
  {
   "cell_type": "code",
   "execution_count": null,
   "id": "0e1e2343",
   "metadata": {},
   "outputs": [],
   "source": [
    "data.head()"
   ]
  },
  {
   "cell_type": "code",
   "execution_count": null,
   "id": "239b10ab",
   "metadata": {},
   "outputs": [],
   "source": [
    "data['age'].hist()"
   ]
  },
  {
   "cell_type": "code",
   "execution_count": null,
   "id": "516b6392",
   "metadata": {},
   "outputs": [],
   "source": [
    "data_final = pd.get_dummies(data, drop_first=True)\n",
    "data_final.head()"
   ]
  },
  {
   "cell_type": "code",
   "execution_count": null,
   "id": "ab06c97e",
   "metadata": {},
   "outputs": [],
   "source": [
    "# Smote\n",
    "X = data_final.drop(columns='y')\n",
    "y = data_final['y']"
   ]
  },
  {
   "cell_type": "code",
   "execution_count": null,
   "id": "bf4a1ec2",
   "metadata": {},
   "outputs": [],
   "source": [
    "from imblearn.over_sampling import SMOTE\n",
    "os = SMOTE(random_state=0)\n",
    "X_train, X_test, y_train, y_test = train_test_split(X, y, test_size=0.3, random_state=0)\n",
    "columns = X_train.columns\n",
    "\n",
    "os_data_X,os_data_y=os.fit_resample(X_train, y_train)\n",
    "os_data_X = pd.DataFrame(data=os_data_X,columns=columns )\n",
    "os_data_y= pd.DataFrame(data=os_data_y,columns=['y'])"
   ]
  },
  {
   "cell_type": "code",
   "execution_count": null,
   "id": "5e4610ec",
   "metadata": {},
   "outputs": [],
   "source": [
    "os_data_y['y'].value_counts(normalize=True)"
   ]
  },
  {
   "cell_type": "code",
   "execution_count": null,
   "id": "5106d7e0",
   "metadata": {},
   "outputs": [],
   "source": [
    "# Recursive Feature Elimination technique\n",
    "from sklearn.feature_selection import RFE\n",
    "\n",
    "logreg = LogisticRegression()\n",
    "rfe = RFE(logreg, n_features_to_select=20)\n",
    "rfe = rfe.fit(os_data_X, os_data_y.values.ravel())\n",
    "print(rfe.support_)\n",
    "print(rfe.ranking_)"
   ]
  },
  {
   "cell_type": "code",
   "execution_count": null,
   "id": "864c92be",
   "metadata": {},
   "outputs": [],
   "source": [
    "cols = X.columns[rfe.support_]\n",
    "cols"
   ]
  },
  {
   "cell_type": "code",
   "execution_count": null,
   "id": "6f8e945a",
   "metadata": {},
   "outputs": [],
   "source": [
    "X=os_data_X[cols]\n",
    "y=os_data_y['y']"
   ]
  },
  {
   "cell_type": "code",
   "execution_count": null,
   "id": "5068efd4",
   "metadata": {},
   "outputs": [],
   "source": [
    "X_train, X_test, y_train, y_test = train_test_split(X, y, test_size=0.3, random_state=0)\n",
    "logreg = LogisticRegression()\n",
    "logreg.fit(X_train, y_train)"
   ]
  },
  {
   "cell_type": "code",
   "execution_count": null,
   "id": "b77bf1c1",
   "metadata": {},
   "outputs": [],
   "source": [
    "y_pred = logreg.predict(X_test)\n",
    "print('Accuracy of logistic regression classifier on test set: {:.2f}'.format(logreg.score(X_test, y_test)))"
   ]
  },
  {
   "cell_type": "code",
   "execution_count": null,
   "id": "b9fb2e17",
   "metadata": {},
   "outputs": [],
   "source": [
    "# Evaluation metrics of Classification task"
   ]
  },
  {
   "cell_type": "code",
   "execution_count": null,
   "id": "ed0d27c2",
   "metadata": {},
   "outputs": [],
   "source": [
    "# accuracy --> number of correct predictions/total number of predictions"
   ]
  },
  {
   "cell_type": "code",
   "execution_count": null,
   "id": "bd70dbb7",
   "metadata": {},
   "outputs": [],
   "source": [
    "from sklearn.metrics import ConfusionMatrixDisplay, confusion_matrix, f1_score, precision_score,recall_score"
   ]
  },
  {
   "cell_type": "code",
   "execution_count": null,
   "id": "21b9f8d1",
   "metadata": {},
   "outputs": [],
   "source": [
    "cm = confusion_matrix(y_test,y_pred)\n",
    "cm_display = ConfusionMatrixDisplay(cm, display_labels=[0,1])\n",
    "cm_display.plot()\n",
    "plt.show()"
   ]
  },
  {
   "cell_type": "markdown",
   "id": "9e8e377d",
   "metadata": {},
   "source": [
    "- True Negative (Top-Left Quadrant)\n",
    "- False Positive (Top-Right Quadrant)\n",
    "- False Negative (Bottom-Left Quadrant)\n",
    "- True Positive (Bottom-Right Quadrant)"
   ]
  },
  {
   "cell_type": "code",
   "execution_count": null,
   "id": "0ffe94b5",
   "metadata": {},
   "outputs": [],
   "source": [
    "print(f\"Precision score is {precision_score(y_test,y_pred)}\")\n",
    "print(f\"Recall score is {recall_score(y_test,y_pred)}\")\n",
    "print(f\"f1-score is {f1_score(y_test,y_pred)}\")"
   ]
  },
  {
   "cell_type": "code",
   "execution_count": null,
   "id": "59940487",
   "metadata": {},
   "outputs": [],
   "source": [
    "# ROC AUC Score"
   ]
  },
  {
   "cell_type": "code",
   "execution_count": null,
   "id": "b5f47046",
   "metadata": {},
   "outputs": [],
   "source": [
    "from sklearn.metrics import roc_auc_score\n",
    "y_pred_proba = logreg.predict_proba(X_test)\n",
    "y_pred_proba"
   ]
  },
  {
   "cell_type": "code",
   "execution_count": null,
   "id": "4e2430ec",
   "metadata": {},
   "outputs": [],
   "source": [
    "roc_auc_score(y_test,y_pred_proba[:,1])"
   ]
  },
  {
   "cell_type": "code",
   "execution_count": null,
   "id": "16d64d3e",
   "metadata": {},
   "outputs": [],
   "source": [
    "from sklearn.metrics import roc_curve"
   ]
  },
  {
   "cell_type": "code",
   "execution_count": null,
   "id": "10f0706a",
   "metadata": {},
   "outputs": [],
   "source": [
    "fpr,tpr, threshoold = roc_curve(y_test,y_pred_proba[:,1])\n",
    "random_probs = [0 for i in range(len(y_test))]\n",
    "p_fpr, p_tpr, _ = roc_curve(y_test, random_probs, pos_label=1)\n",
    "plt.plot(fpr, tpr, linestyle='--',color='orange', label='Logistic Regression')\n",
    "plt.plot(p_fpr, p_tpr, linestyle='--', color='blue')\n",
    "plt.title('ROC curve')\n",
    "# x label\n",
    "plt.xlabel('False Positive Rate')\n",
    "# y label\n",
    "plt.ylabel('True Positive rate')\n",
    "plt.legend(loc='best')\n",
    "plt.show();"
   ]
  },
  {
   "cell_type": "code",
   "execution_count": null,
   "id": "e857612c",
   "metadata": {},
   "outputs": [],
   "source": []
  }
 ],
 "metadata": {
  "kernelspec": {
   "display_name": "Python 3 (ipykernel)",
   "language": "python",
   "name": "python3"
  },
  "language_info": {
   "codemirror_mode": {
    "name": "ipython",
    "version": 3
   },
   "file_extension": ".py",
   "mimetype": "text/x-python",
   "name": "python",
   "nbconvert_exporter": "python",
   "pygments_lexer": "ipython3",
   "version": "3.8.0"
  }
 },
 "nbformat": 4,
 "nbformat_minor": 5
}
